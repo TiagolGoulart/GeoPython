{
  "nbformat": 4,
  "nbformat_minor": 0,
  "metadata": {
    "colab": {
      "provenance": [],
      "authorship_tag": "ABX9TyNdF53/veVIhzAqq1I+FzEg",
      "include_colab_link": true
    },
    "kernelspec": {
      "name": "python3",
      "display_name": "Python 3"
    },
    "language_info": {
      "name": "python"
    }
  },
  "cells": [
    {
      "cell_type": "markdown",
      "metadata": {
        "id": "view-in-github",
        "colab_type": "text"
      },
      "source": [
        "<a href=\"https://colab.research.google.com/github/TiagolGoulart/GeoPython/blob/main/downloadCBERS4A.ipynb\" target=\"_parent\"><img src=\"https://colab.research.google.com/assets/colab-badge.svg\" alt=\"Open In Colab\"/></a>"
      ]
    },
    {
      "cell_type": "code",
      "execution_count": null,
      "metadata": {
        "id": "QVmBt2KuQYzq"
      },
      "outputs": [],
      "source": [
        "# Connecting with google drive\n",
        "\n",
        "from google.colab import drive\n",
        "drive.mount('/content/drive', force_remount=True)"
      ]
    },
    {
      "cell_type": "code",
      "source": [
        "# Installing the necessaries libraries\n",
        "\n",
        "!pip install geopandas -q\n",
        "!pip install rasterio -q\n",
        "!pip install shapely -q\n",
        "!pip install simplekml -q\n",
        "!pip install cbers4asat[tools] -q"
      ],
      "metadata": {
        "id": "YhWTcwzZRHJh"
      },
      "execution_count": null,
      "outputs": []
    },
    {
      "cell_type": "code",
      "source": [
        "!pip install numpy==1.23"
      ],
      "metadata": {
        "id": "Tn_kLd6f-OxZ"
      },
      "execution_count": null,
      "outputs": []
    },
    {
      "cell_type": "code",
      "source": [
        "from cbers4asat.tools import clip"
      ],
      "metadata": {
        "id": "40eWtz7mmu8N"
      },
      "execution_count": 4,
      "outputs": []
    },
    {
      "cell_type": "code",
      "source": [
        "# Importing packages\n",
        "\n",
        "import geopandas as gpd\n",
        "import simplekml\n",
        "import numpy as np\n",
        "import rasterio\n",
        "import os\n",
        "import lxml.etree as etree\n",
        "import pyproj\n",
        "from pyproj import Transformer\n",
        "from rasterio.merge import merge\n",
        "from rasterio.plot import show\n",
        "from rasterio.features import shapes\n",
        "from shapely.geometry import Polygon, Point"
      ],
      "metadata": {
        "id": "9QkF5PrXRaQ3"
      },
      "execution_count": 5,
      "outputs": []
    },
    {
      "cell_type": "code",
      "source": [
        "# Defining the data\n",
        "\n",
        "# Define the coordinate system with EPSG code\n",
        "sistema_coordenadas = input(\"Digite o código EPSG do sistema de coordenadas de referência: \\n\")\n",
        "sistema_coordenadas = 'EPSG:'+sistema_coordenadas\n",
        "\n",
        "# Path for mask to clip raster\n",
        "kml_path = input('Cole o caminho para o kml que irá cortar as imagens raster: ')\n",
        "\n",
        "# INPE user\n",
        "user_cbers = input('Digite aqui seu e-mail de usuário cadastrado na plataforma do CBERS4A: \\n')\n",
        "\n",
        "# Inicial search date\n",
        "inicial_date = input('Digite a data inicial de busca da imagem no formato DD/MM/AAAA: \\n')\n",
        "d_i = int(inicial_date[:2])\n",
        "m_i = int(inicial_date[3:5])\n",
        "a_i = int(inicial_date[6:])\n",
        "\n",
        "# Final search date\n",
        "\n",
        "final_date= input('Digite a data final de busca da imagem no formato DD/MM/AAAA: \\n')\n",
        "d_f = int(final_date[:2])\n",
        "m_f = int(final_date[3:5])\n",
        "a_f = int(final_date[6:])\n",
        "\n",
        "# Setting the results output directory\n",
        "\n",
        "out_dir = input('Cole o caminho da pasta onde os arquivos resultantes serão salvos: \\n')"
      ],
      "metadata": {
        "id": "BzUUkaX5RuPn"
      },
      "execution_count": null,
      "outputs": []
    },
    {
      "cell_type": "code",
      "source": [
        "# Opening the extension KML and setting the bbox\n",
        "\n",
        "# Open the KML file in binary mode\n",
        "with open(kml_path, 'rb') as f:\n",
        "  kml_string = f.read()\n",
        "\n",
        "# parse the KML string into an Element object\n",
        "root = etree.fromstring(kml_string)\n",
        "\n",
        "# Get the coordinates of the polygon\n",
        "polygon = root.find('.//{http://www.opengis.net/kml/2.2}Polygon')\n",
        "coords_str = polygon.find('.//{http://www.opengis.net/kml/2.2}coordinates').text\n",
        "\n",
        "coords_list_original = [tuple(map(float, coord.split(',')[0:2])) for coord in coords_str.split()]\n",
        "coords_list = [(coord[1], coord[0]) for coord in coords_list_original]\n",
        "\n",
        "# Create a Transformer for the proper UTM projection\n",
        "transformer = Transformer.from_crs(\"EPSG:4326\", sistema_coordenadas)\n",
        "\n",
        "# Convert the coordinates to the proper UTM projection\n",
        "coords_list_utm = [transformer.transform(*coord)[::-1] for coord in coords_list]\n",
        "coords_list = [(coord[1], coord[0]) for coord in coords_list_utm]\n",
        "\n",
        "# Create a shapely polygon based on UTM coordinates for cutting\n",
        "polygon_utm = Polygon(coords_list)\n",
        "\n",
        "# Defining the mask based on the initial polygon\n",
        "geo = polygon_utm\n",
        "\n",
        "# Create a shapely polygon with geographic coordinates to get bbox\n",
        "polygon_bbox = Polygon(coords_list_original)\n",
        "\n",
        "# Using the 'envelope' attribute to get a bounding rectangle and then getting the max and min values\n",
        "envelope = polygon_bbox.envelope\n",
        "x_min, y_min, x_max, y_max = envelope.bounds"
      ],
      "metadata": {
        "id": "THwH6TQUUPst"
      },
      "execution_count": 7,
      "outputs": []
    },
    {
      "cell_type": "code",
      "source": [
        "# Importing the libraries\n",
        "from cbers4asat import Cbers4aAPI\n",
        "\n",
        "# The date class is necessary to standardize the date format\n",
        "from datetime import date\n",
        "\n",
        "# Instantiating the object with the user registered on the platform\n",
        "api = Cbers4aAPI(user_cbers)\n",
        "\n",
        "# Bounding box formed by [x_min, y_min, x_max, y_max]\n",
        "bbox=[x_min,y_min,x_max,y_max]\n",
        "\n",
        "# Search interval\n",
        "data_inicial = date(a_i,m_i,d_i)\n",
        "data_final = date(a_f,m_f,d_f)\n",
        "\n",
        "\n",
        "# Querying the catalog and displaying the results\n",
        "produtos = api.query(location=bbox,\n",
        "                     initial_date=data_inicial,\n",
        "                     end_date=data_final,\n",
        "                     cloud=100,\n",
        "                     limit=1,\n",
        "                     collections=['CBERS4A_WPM_L4_DN'])\n"
      ],
      "metadata": {
        "id": "CUm4bu5XWKw3"
      },
      "execution_count": 8,
      "outputs": []
    },
    {
      "cell_type": "code",
      "source": [
        "# Viewing the data\n",
        "produtos"
      ],
      "metadata": {
        "id": "nGQFQ9MTeVDy"
      },
      "execution_count": null,
      "outputs": []
    },
    {
      "cell_type": "code",
      "source": [
        "# Downloading the images for the output directory\n",
        "\n",
        "api.download(products=produtos,\n",
        "             bands=['green','blue','red','nir'],\n",
        "             threads=10,\n",
        "             outdir=out_dir)\n",
        "\n"
      ],
      "metadata": {
        "id": "xIGCXjhGgKLl"
      },
      "execution_count": 10,
      "outputs": []
    },
    {
      "cell_type": "code",
      "source": [
        "# Defining the path of each band image\n",
        "\n",
        "import time\n",
        "import glob\n",
        "start_time = time.time()  # Get the current time before starting the loop\n",
        "timeout = 60  # Timeout in seconds\n",
        "\n",
        "while True:\n",
        "    try:\n",
        "        blue_path = glob.glob(out_dir + '/*BAND1.tif')[0]\n",
        "        green_path = glob.glob(out_dir + '/*BAND2.tif')[0]\n",
        "        red_path = glob.glob(out_dir + '/*BAND3.tif')[0]\n",
        "        nir_path = glob.glob(out_dir + '/*BAND4.tif')[0]\n",
        "\n",
        "        break  # Exit the loop if no error occurs\n",
        "    except IndexError:\n",
        "        if time.time() - start_time >= timeout:\n",
        "            print(\"Timeout: The timeout limit of 60 seconds has been reached.\"\n",
        "            + \"Please wait a moment and run the cell again.\")\n",
        "            break  # Exit the loop if the timeout is reached"
      ],
      "metadata": {
        "id": "-yciyAVoegiu"
      },
      "execution_count": 15,
      "outputs": []
    },
    {
      "cell_type": "code",
      "source": [
        "# Defining a reprojection function of the downloaded rasters\n",
        "\n",
        "import rasterio\n",
        "from rasterio.warp import calculate_default_transform, reproject\n",
        "\n",
        "# input_file and output_file refer to input and output paths of the initial raster\n",
        "# and the reprojected raster, respectively, since dst_crs is the desired reference system\n",
        "# which should be typed in the pattern 'EPSG:4326' (Geographic WGS84 in this case)\n",
        "\n",
        "def reproject_raster(input_file, output_file, dst_crs):\n",
        "    # Opening the input raster\n",
        "    with rasterio.open(input_file) as src:\n",
        "        # Calculate the transformation and dimensions for the reprojected raster\n",
        "        transform, width, height = calculate_default_transform(src.crs, dst_crs, src.width, src.height, *src.bounds)\n",
        "\n",
        "        # Create the output raster file\n",
        "        kwargs = src.meta.copy()\n",
        "        kwargs.update({\n",
        "            'crs': dst_crs,\n",
        "            'transform': transform,\n",
        "            'width': width,\n",
        "            'height': height\n",
        "        })\n",
        "\n",
        "        with rasterio.open(output_file, 'w', **kwargs) as dst:\n",
        "            # Reproject input raster to output crs\n",
        "            reproject(\n",
        "                source=rasterio.band(src, 1),\n",
        "                destination=rasterio.band(dst, 1),\n",
        "                src_transform=src.transform,\n",
        "                src_crs=src.crs,\n",
        "                dst_transform=transform,\n",
        "                dst_crs=dst_crs,\n",
        "                resampling=rasterio.enums.Resampling.nearest\n",
        "            )"
      ],
      "metadata": {
        "id": "kismdrDXiHbS"
      },
      "execution_count": 16,
      "outputs": []
    },
    {
      "cell_type": "code",
      "source": [
        "# Reprojecting the rasters with the defined function\n",
        "\n",
        "blue_path_rprj = out_dir+'/RPRJ_BAND1.tif'\n",
        "green_path_rprj = out_dir+'/RPRJ_BAND2.tif'\n",
        "red_path_rprj = out_dir+'/RPRJ_BAND3.tif'\n",
        "nir_path_rprj = out_dir+'/RPRJ_BAND4.tif'\n",
        "\n",
        "\n",
        "reproject_raster(blue_path,\n",
        "                 blue_path_rprj,\n",
        "                 sistema_coordenadas)\n",
        "\n",
        "reproject_raster(green_path,\n",
        "                 green_path_rprj,\n",
        "                 sistema_coordenadas)\n",
        "\n",
        "reproject_raster(red_path,\n",
        "                 red_path_rprj,\n",
        "                 sistema_coordenadas)\n",
        "\n",
        "reproject_raster(nir_path,\n",
        "                 nir_path_rprj,\n",
        "                 sistema_coordenadas)"
      ],
      "metadata": {
        "id": "tsa-5hPFiIps"
      },
      "execution_count": 17,
      "outputs": []
    },
    {
      "cell_type": "code",
      "source": [
        "# Cutting the rasters by the extension of the project\n",
        "\n",
        "# Defining the mask based on the initial polygon\n",
        "geo = polygon_utm\n",
        "\n",
        "from cbers4asat.tools import clip\n",
        "\n",
        "out_dir_rec = out_dir+\"/Recortados\"\n",
        "\n",
        "clip(\n",
        "    raster=blue_path_rprj,\n",
        "    mask=geo,\n",
        "    outdir=out_dir_rec,\n",
        "    filename=\"BAND1_REC.tif\",\n",
        ")\n",
        "\n",
        "clip(\n",
        "    raster=green_path_rprj,\n",
        "    mask=geo,\n",
        "    outdir=out_dir_rec,\n",
        "    filename=\"BAND2_REC.tif\",\n",
        ")\n",
        "\n",
        "clip(\n",
        "    raster=red_path_rprj,\n",
        "    mask=geo,\n",
        "    outdir=out_dir_rec,\n",
        "    filename=\"BAND3_REC.tif\",\n",
        ")\n",
        "\n",
        "clip(\n",
        "    raster=nir_path_rprj,\n",
        "    mask=geo,\n",
        "    outdir=out_dir_rec,\n",
        "    filename=\"BAND4_REC.tif\",\n",
        ")"
      ],
      "metadata": {
        "id": "dgm7HUxDicFU"
      },
      "execution_count": 18,
      "outputs": []
    },
    {
      "cell_type": "code",
      "source": [
        "# Saving the paths to the rasters in variables\n",
        "\n",
        "blue_path=out_dir_rec+'/BAND1_REC.tif'\n",
        "green_path=out_dir_rec+'/BAND2_REC.tif'\n",
        "red_path=out_dir_rec+'/BAND3_REC.tif'\n",
        "nir_path=out_dir_rec+'/BAND4_REC.tif'"
      ],
      "metadata": {
        "id": "wmaKE2CjijbR"
      },
      "execution_count": 19,
      "outputs": []
    },
    {
      "cell_type": "code",
      "source": [
        "# Displaying the analysis image above\n",
        "\n",
        "from cbers4asat.tools import rgbn_composite\n",
        "import rasterio as rio\n",
        "from rasterio.plot import show\n",
        "\n",
        "# Creating a TRUE COLOR composite\n",
        "# Each color parameter represents the output image channel\n",
        "out_dir_RGB = '/content/drive/MyDrive/#FINAL_RESULT'\n",
        "\n",
        "# NIR band is optional\n",
        "rgbn_composite(red=red_path,\n",
        "               green=green_path,\n",
        "               blue=blue_path,\n",
        "               nir=nir_path,\n",
        "               filename='TRUE_COLOR.tif',\n",
        "               outdir=out_dir_RGB)\n",
        "\n",
        "raster = rio.open(out_dir_RGB + \"/TRUE_COLOR.tif\")\n",
        "\n",
        "show(raster.read(), transform=raster.transform)"
      ],
      "metadata": {
        "id": "EPpyPtqMisiD"
      },
      "execution_count": null,
      "outputs": []
    },
    {
      "cell_type": "code",
      "source": [
        "# Removing files to liberate memory\n",
        "\n",
        "import os\n",
        "\n",
        "# Home folder path\n",
        "pasta = out_dir\n",
        "\n",
        "# Get the list of files in the folder\n",
        "arquivos = os.listdir(pasta)\n",
        "\n",
        "# Go through the list of files and delete them\n",
        "for arquivo in arquivos:\n",
        "    caminho_arquivo = os.path.join(pasta, arquivo)\n",
        "    if os.path.isfile(caminho_arquivo):\n",
        "        os.remove(caminho_arquivo)\n",
        "\n",
        "\n",
        "# Clipped folder path\n",
        "pasta = out_dir_rec\n",
        "\n",
        "# Get the list of files in the folder\n",
        "arquivos = os.listdir(pasta)\n",
        "\n",
        "# Go through the list of files and delete them\n",
        "for arquivo in arquivos:\n",
        "    caminho_arquivo = os.path.join(pasta, arquivo)\n",
        "    if os.path.isfile(caminho_arquivo):\n",
        "        os.remove(caminho_arquivo)"
      ],
      "metadata": {
        "id": "wnnLHN1NCcgV"
      },
      "execution_count": 26,
      "outputs": []
    }
  ]
}