{
  "nbformat": 4,
  "nbformat_minor": 0,
  "metadata": {
    "colab": {
      "provenance": [],
      "authorship_tag": "ABX9TyNgDY3IFd/mJVmA0A54QeBJ",
      "include_colab_link": true
    },
    "kernelspec": {
      "name": "python3",
      "display_name": "Python 3"
    },
    "language_info": {
      "name": "python"
    }
  },
  "cells": [
    {
      "cell_type": "markdown",
      "metadata": {
        "id": "view-in-github",
        "colab_type": "text"
      },
      "source": [
        "<a href=\"https://colab.research.google.com/github/TiagolGoulart/GeoPython/blob/main/automated_reprojection.ipynb\" target=\"_parent\"><img src=\"https://colab.research.google.com/assets/colab-badge.svg\" alt=\"Open In Colab\"/></a>"
      ]
    },
    {
      "cell_type": "code",
      "execution_count": null,
      "metadata": {
        "id": "ibJw6OCUVKLl"
      },
      "outputs": [],
      "source": [
        "# Import the libraries\n",
        "import geopandas as gpd\n",
        "import os"
      ]
    },
    {
      "cell_type": "code",
      "source": [
        "# Define the path to the folder where the shapefiles are stored that will be reprojected\n",
        "dire=(r'C:\\Users\\Shapefiles')\n",
        "\n",
        "# Create a list with only the .shp files in the folder indicated by the dire variable\n",
        "shapefiles=[_ for _ in os.listdir(dire) if _.endswith('.shp')]\n",
        "\n",
        "# Change the current directory to the one indicated in dire\n",
        "os.chdir(dire)"
      ],
      "metadata": {
        "id": "yObvTPy4VX8l"
      },
      "execution_count": null,
      "outputs": []
    },
    {
      "cell_type": "code",
      "source": [
        "# Start the loop\n",
        "for i in shapefiles:\n",
        "\n",
        "    # Read the shapefile\n",
        "    arquivo= gpd.read_file(i)\n",
        "    # View the current CRS on the screen\n",
        "    print('O CRS atual é:', arquivo.crs)\n",
        "    # Reproject to desired epsg and store in variable reprojected\n",
        "    reprojetado=arquivo.to_crs(epsg='4327')\n",
        "\n",
        "    # Define the path and name of the file to which the shapefile redesigned will be exported.\n",
        "    # The {} inside the string works as a space reservation that will be replaced by the one indicated\n",
        "    # in .format(). In this case, I indicate that the name of the original file\n",
        "    # is broken in two and I keep the part before the extension, the to which\n",
        "    # I add the suffix '_reproje.shp'\n",
        "\n",
        "    saida= r'C:\\Users\\reprojetados\\{}'.format(i.split('.shp')[0]+'_reproje.shp')\n",
        "\n",
        "    # Salve no caminho indicado o arquivo reprojetado\n",
        "    reprojetado.to_file(saida)"
      ],
      "metadata": {
        "id": "BAyujPfjVbhc"
      },
      "execution_count": null,
      "outputs": []
    }
  ]
}