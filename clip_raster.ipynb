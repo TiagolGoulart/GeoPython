{
  "nbformat": 4,
  "nbformat_minor": 0,
  "metadata": {
    "colab": {
      "provenance": [],
      "authorship_tag": "ABX9TyNsrvSAQF6SwgmRdJTyRKbD",
      "include_colab_link": true
    },
    "kernelspec": {
      "name": "python3",
      "display_name": "Python 3"
    },
    "language_info": {
      "name": "python"
    }
  },
  "cells": [
    {
      "cell_type": "markdown",
      "metadata": {
        "id": "view-in-github",
        "colab_type": "text"
      },
      "source": [
        "<a href=\"https://colab.research.google.com/github/TiagolGoulart/GeoPython/blob/main/clip_raster.ipynb\" target=\"_parent\"><img src=\"https://colab.research.google.com/assets/colab-badge.svg\" alt=\"Open In Colab\"/></a>"
      ]
    },
    {
      "cell_type": "code",
      "source": [
        "!pip install rasterio"
      ],
      "metadata": {
        "id": "injc0FlLS9VA"
      },
      "execution_count": null,
      "outputs": []
    },
    {
      "cell_type": "code",
      "execution_count": 3,
      "metadata": {
        "id": "Ri03CVVASunw"
      },
      "outputs": [],
      "source": [
        "# Import the libraries\n",
        "import geopandas as gpd\n",
        "import rasterio.mask\n",
        "from rasterio.plot import show\n",
        "import numpy as np"
      ]
    },
    {
      "cell_type": "code",
      "source": [
        "# Read the shapefile that will serve as a clipping mask\n",
        "shape_path = \"C:\\Users\\Shapefiles\\mask.shp\"\n",
        "shape = gpd.read_file(shape_path)"
      ],
      "metadata": {
        "id": "GA3GohWwS4zP"
      },
      "execution_count": null,
      "outputs": []
    },
    {
      "cell_type": "code",
      "source": [
        "# Define the function that will transform the shapefile geometries to json in the format that the rasterio understands for the clipping\n",
        "def getFeatures(gdf):\n",
        "    import json\n",
        "    return [json.loads(gdf.to_json())['features'][0]['geometry']]"
      ],
      "metadata": {
        "id": "ql_YzBsPS6kY"
      },
      "execution_count": null,
      "outputs": []
    },
    {
      "cell_type": "code",
      "source": [
        "# Run the function defined above\n",
        "coords = getFeatures(shape)"
      ],
      "metadata": {
        "id": "lvIASqjmTGvn"
      },
      "execution_count": null,
      "outputs": []
    },
    {
      "cell_type": "code",
      "source": [
        "# Use rasterio to open the image\n",
        "raster_path = \"C:\\Users\\Rasters\\raster.tif\""
      ],
      "metadata": {
        "id": "G_0wiTsRTJ2f"
      },
      "execution_count": null,
      "outputs": []
    },
    {
      "cell_type": "code",
      "source": [
        "with rasterio.open(raster_path) as src:\n",
        "    # Use the mask function to crop the image with the coordinates extracted from the shapefile (coords)\n",
        "    out_image, out_transform = rasterio.mask.mask(src, coords, crop=True)\n",
        "    # Get the original raster metadata\n",
        "    out_meta = src.meta\n",
        "    b2=src.read(1)\n",
        "    affine=src.transform\n",
        "# Update the original raster metadata with new dimensions and transformation to geographic coordinates\n",
        "out_meta.update({\"driver\": \"GTiff\",\n",
        "                 \"height\": out_image.shape[1],\n",
        "                 \"width\": out_image.shape[2],\n",
        "                 \"transform\": out_transform})\n",
        "\n",
        "# Save the clipping in a new raster\n",
        "with rasterio.open(\"raster.masked.tif\", \"w\", **out_meta) as dest:\n",
        "    dest.write(out_image)"
      ],
      "metadata": {
        "id": "fGBIe4YxTMPf"
      },
      "execution_count": null,
      "outputs": []
    }
  ]
}