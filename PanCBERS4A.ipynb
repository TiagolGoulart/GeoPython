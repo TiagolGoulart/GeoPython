{
  "cells": [
    {
      "cell_type": "markdown",
      "metadata": {
        "id": "view-in-github",
        "colab_type": "text"
      },
      "source": [
        "<a href=\"https://colab.research.google.com/github/TiagolGoulart/GeoPython/blob/main/PanCBERS4A.ipynb\" target=\"_parent\"><img src=\"https://colab.research.google.com/assets/colab-badge.svg\" alt=\"Open In Colab\"/></a>"
      ]
    },
    {
      "cell_type": "code",
      "execution_count": null,
      "metadata": {
        "id": "YhWTcwzZRHJh"
      },
      "outputs": [],
      "source": [
        "# Installing the necessaries libraries\n",
        "\n",
        "!pip install geopandas\n",
        "!pip install rasterio\n",
        "!pip install shapely\n",
        "!pip install simplekml\n",
        "!pip install \"cbers4asat[tools] \""
      ]
    },
    {
      "cell_type": "code",
      "execution_count": null,
      "metadata": {
        "id": "9QkF5PrXRaQ3"
      },
      "outputs": [],
      "source": [
        "# Importing packages\n",
        "\n",
        "import geopandas as gpd\n",
        "import simplekml\n",
        "import numpy as np\n",
        "import rasterio\n",
        "import os\n",
        "import lxml.etree as etree\n",
        "import pyproj\n",
        "from pyproj import Transformer\n",
        "from rasterio.merge import merge\n",
        "from rasterio.plot import show\n",
        "from rasterio.features import shapes\n",
        "from shapely.geometry import Polygon, Point"
      ]
    },
    {
      "cell_type": "code",
      "execution_count": null,
      "metadata": {
        "id": "BzUUkaX5RuPn"
      },
      "outputs": [],
      "source": [
        "# Defining the data\n",
        "\n",
        "# Define the coordinate system with EPSG code\n",
        "sistema_coordenadas = input(\"Digite o código EPSG do sistema de coordenadas de referência: \\n\")\n",
        "sistema_coordenadas = 'EPSG:'+sistema_coordenadas\n",
        "\n",
        "# Path for mask to clip raster\n",
        "kml_path = input('Cole o caminho para o kml que irá cortar as imagens raster: ')\n",
        "\n",
        "# INPE user\n",
        "user_cbers = input('Digite aqui seu e-mail de usuário cadastrado na plataforma do CBERS4A: \\n')\n",
        "\n",
        "# Inicial search date\n",
        "#inicial_date = input('Digite a data inicial de busca da imagem no formato DD/MM/AAAA: \\n')\n",
        "d_i = int(inicial_date[:2])\n",
        "m_i = int(inicial_date[3:5])\n",
        "a_i = int(inicial_date[6:])\n",
        "\n",
        "# Final search date\n",
        "\n",
        "final_date= input('Digite a data final de busca da imagem no formato DD/MM/AAAA: \\n')\n",
        "d_f = int(final_date[:2])\n",
        "m_f = int(final_date[3:5])\n",
        "a_f = int(final_date[6:])\n",
        "\n",
        "# Setting the results output directory\n",
        "\n",
        "out_dir = input('Cole o caminho da pasta onde os arquivos resultantes serão salvos: \\n')"
      ]
    },
    {
      "cell_type": "code",
      "execution_count": null,
      "metadata": {
        "id": "THwH6TQUUPst"
      },
      "outputs": [],
      "source": [
        "# Opening the extension KML and setting the bbox\n",
        "\n",
        "# Open the KML file in binary mode\n",
        "with open(kml_path, 'rb') as f:\n",
        "  kml_string = f.read()\n",
        "\n",
        "# parse the KML string into an Element object\n",
        "root = etree.fromstring(kml_string)\n",
        "\n",
        "# Get the coordinates of the polygon\n",
        "polygon = root.find('.//{http://www.opengis.net/kml/2.2}Polygon')\n",
        "coords_str = polygon.find('.//{http://www.opengis.net/kml/2.2}coordinates').text\n",
        "\n",
        "coords_list_original = [tuple(map(float, coord.split(',')[0:2])) for coord in coords_str.split()]\n",
        "coords_list = [(coord[1], coord[0]) for coord in coords_list_original]\n",
        "\n",
        "# Create a Transformer for the proper UTM projection\n",
        "transformer = Transformer.from_crs(\"EPSG:4326\", sistema_coordenadas)\n",
        "\n",
        "# Convert the coordinates to the proper UTM projection\n",
        "coords_list_utm = [transformer.transform(*coord)[::-1] for coord in coords_list]\n",
        "coords_list = [(coord[1], coord[0]) for coord in coords_list_utm]\n",
        "\n",
        "# Create a shapely polygon based on UTM coordinates for cutting\n",
        "polygon_utm = Polygon(coords_list)\n",
        "\n",
        "# Defining the mask based on the initial polygon\n",
        "geo = polygon_utm\n",
        "\n",
        "# Create a shapely polygon with geographic coordinates to get bbox\n",
        "polygon_bbox = Polygon(coords_list_original)\n",
        "\n",
        "# Using the 'envelope' attribute to get a bounding rectangle and then getting the max and min values\n",
        "envelope = polygon_bbox.envelope\n",
        "x_min, y_min, x_max, y_max = envelope.bounds\n",
        "\n",
        "evelope_utm = polygon_utm.envelope"
      ]
    },
    {
      "cell_type": "code",
      "execution_count": null,
      "metadata": {
        "id": "Q7ML32wWID2m"
      },
      "outputs": [],
      "source": [
        "# Bounding box formed by [x_min, y_min, x_max, y_max]\n",
        "bbox=[x_min,y_min,x_max,y_max]\n",
        "\n",
        "from shapely.geometry import mapping\n",
        "coords= [mapping(evelope_utm)]"
      ]
    },
    {
      "cell_type": "code",
      "execution_count": null,
      "metadata": {
        "id": "2cgeOT1TID2n"
      },
      "outputs": [],
      "source": [
        "coords"
      ]
    },
    {
      "cell_type": "code",
      "execution_count": null,
      "metadata": {
        "id": "CUm4bu5XWKw3"
      },
      "outputs": [],
      "source": [
        "# Importing the libraries\n",
        "from cbers4asat import Cbers4aAPI\n",
        "\n",
        "# The date class is necessary to standardize the date format\n",
        "from datetime import date\n",
        "\n",
        "# Instantiating the object with the user registered on the platform\n",
        "api = Cbers4aAPI(user_cbers)\n",
        "\n",
        "# Bounding box formed by [x_min, y_min, x_max, y_max]\n",
        "#bbox=[x_min,y_min,x_max,y_max]\n",
        "\n",
        "# Search interval\n",
        "data_inicial = date(a_i,m_i,d_i)\n",
        "data_final = date(a_f,m_f,d_f)\n",
        "\n",
        "\n",
        "# Querying the catalog and displaying the results\n",
        "produtos = api.query(location=bbox,\n",
        "                     initial_date=data_inicial,\n",
        "                     end_date=data_final,\n",
        "                     cloud=10,\n",
        "                     limit=1,\n",
        "                     collections=['CBERS4A_WPM_L4_DN'])\n"
      ]
    },
    {
      "cell_type": "code",
      "execution_count": null,
      "metadata": {
        "id": "nGQFQ9MTeVDy"
      },
      "outputs": [],
      "source": [
        "# Viewing the data\n",
        "produtos"
      ]
    },
    {
      "cell_type": "code",
      "execution_count": null,
      "metadata": {
        "id": "xIGCXjhGgKLl"
      },
      "outputs": [],
      "source": [
        "# Downloading the images for the output directory\n",
        "\n",
        "api.download(products=produtos,\n",
        "             bands=['pan','green','blue','red','nir'],\n",
        "             threads=10,\n",
        "             outdir=out_dir)\n",
        "\n"
      ]
    },
    {
      "cell_type": "code",
      "execution_count": null,
      "metadata": {
        "id": "-yciyAVoegiu"
      },
      "outputs": [],
      "source": [
        "# Defining the path of each band image\n",
        "\n",
        "import time\n",
        "import glob\n",
        "start_time = time.time()  # Get the current time before starting the loop\n",
        "timeout = 120  # Timeout in seconds\n",
        "\n",
        "while True:\n",
        "    try:\n",
        "        blue_path = glob.glob(out_dir + '/*BAND1.tif')[0]\n",
        "        green_path = glob.glob(out_dir + '/*BAND2.tif')[0]\n",
        "        red_path = glob.glob(out_dir + '/*BAND3.tif')[0]\n",
        "        nir_path = glob.glob(out_dir + '/*BAND4.tif')[0]\n",
        "        pan_path = glob.glob(out_dir + '/*BAND0.tif')[0]\n",
        "\n",
        "        break  # Exit the loop if no error occurs\n",
        "    except IndexError:\n",
        "        if time.time() - start_time >= timeout:\n",
        "            print(\"Timeout: The timeout limit of 120 seconds has been reached.\"\n",
        "            + \"Please wait a moment and run the cell again.\")\n",
        "            break  # Exit the loop if the timeout is reached"
      ]
    },
    {
      "cell_type": "code",
      "execution_count": null,
      "metadata": {
        "id": "ik1u4k5qID2o"
      },
      "outputs": [],
      "source": [
        "out_dir_rec = out_dir+\"/Recortados\"\n",
        "\n",
        "import os\n",
        "\n",
        "# Create the directory\n",
        "os.makedirs(out_dir_rec, exist_ok=True)"
      ]
    },
    {
      "cell_type": "code",
      "execution_count": null,
      "metadata": {
        "id": "wmaKE2CjijbR"
      },
      "outputs": [],
      "source": [
        "# Saving the paths to the cutted rasters in variables\n",
        "\n",
        "blue_path_rec=out_dir_rec+'/BAND1_REC.tif'\n",
        "green_path_rec=out_dir_rec+'/BAND2_REC.tif'\n",
        "red_path_rec=out_dir_rec+'/BAND3_REC.tif'\n",
        "nir_path_rec=out_dir_rec+'/BAND4_REC.tif'\n",
        "pan_path_rec=out_dir_rec+'/BAND0_REC.tif'"
      ]
    },
    {
      "cell_type": "code",
      "execution_count": null,
      "metadata": {
        "id": "vKsVj6FrID2p"
      },
      "outputs": [],
      "source": [
        "# Cutting the rasters by the extension of the project with rasterio\n",
        "import rasterio.mask\n",
        "\n",
        "# Defining a cutting function of the downloaded rasters\n",
        "\n",
        "\n",
        "def cut_raster(input_file,output_file):\n",
        "    # Use rasterio to open the image\n",
        "    with rasterio.open(input_file) as src:\n",
        "    # Use the mask function to crop the image with the coordinates extracted from KML (coords)\n",
        "        out_image, out_transform = rasterio.mask.mask(src, coords, crop=True)\n",
        "    # Get the original raster metadata\n",
        "        out_meta = src.meta\n",
        "        b2=src.read(1)\n",
        "        affine=src.transform\n",
        "    # Update the original raster metadata with new dimensions and transformation to geographic coordinates\n",
        "    out_meta.update({\"driver\": \"GTiff\",\n",
        "                     \"height\": out_image.shape[1],\n",
        "                     \"width\": out_image.shape[2],\n",
        "                     \"transform\": out_transform})\n",
        "\n",
        "    # Save the clipping in a new raster\n",
        "    with rasterio.open(output_file, \"w\", **out_meta) as dest:\n",
        "        dest.write(out_image)"
      ]
    },
    {
      "cell_type": "code",
      "execution_count": null,
      "metadata": {
        "id": "-OVE8kGrID2p"
      },
      "outputs": [],
      "source": [
        "# Using the function\n",
        "\n",
        "cut_raster(blue_path,blue_path_rec)\n",
        "cut_raster(green_path,green_path_rec)\n",
        "cut_raster(red_path,red_path_rec)\n",
        "cut_raster(nir_path,nir_path_rec)\n",
        "cut_raster(pan_path,pan_path_rec)"
      ]
    },
    {
      "cell_type": "code",
      "execution_count": null,
      "metadata": {
        "id": "dLLbQ6y3ID2p"
      },
      "outputs": [],
      "source": [
        "# Create the directory\n",
        "final_path = out_dir + \"/FINAL_RESULT\"\n",
        "\n",
        "os.makedirs(final_path, exist_ok=True)\n",
        "rgbn_path = final_path + \"/rgbn_composite.tif\"\n",
        "\n",
        "# Open each band as a rasterio object\n",
        "band_r = rasterio.open(red_path_rec)\n",
        "band_g = rasterio.open(green_path_rec)\n",
        "band_b = rasterio.open(blue_path_rec)\n",
        "band_n = rasterio.open(nir_path_rec)\n",
        "\n",
        "\n",
        "# Load each band's data as numpy arrays\n",
        "data_r = band_r.read(1)\n",
        "data_g = band_g.read(1)\n",
        "data_b = band_b.read(1)\n",
        "data_n = band_n.read(1)\n",
        "\n",
        "# Get the transformation and CRS information of the reference band\n",
        "transform = band_r.transform\n",
        "crs = band_r.crs\n",
        "\n",
        "# Create an RGBN matrix by stacking the bands in the correct order\n",
        "rgbn_stack = np.stack([data_r, data_g, data_b, data_n], axis=0)\n",
        "\n",
        "# Save the RGB stack to a new file\n",
        "with rasterio.open(rgbn_path, 'w', driver='GTiff', width=band_r.width, height=band_r.height,\n",
        "                   count=4, dtype=rgbn_stack.dtype, transform=transform, crs=crs) as dst:\n",
        "    dst.write(rgbn_stack, indexes=[1, 2, 3, 4])\n"
      ]
    },
    {
      "cell_type": "code",
      "execution_count": null,
      "metadata": {
        "id": "ExHTLaQ8ID2p"
      },
      "outputs": [],
      "source": [
        "# Close the raster objects of the bands\n",
        "band_r.close()\n",
        "band_g.close()\n",
        "band_b.close()\n",
        "band_n.close()"
      ]
    },
    {
      "cell_type": "code",
      "execution_count": null,
      "metadata": {
        "id": "Lk6QHVfeID2p"
      },
      "outputs": [],
      "source": [
        "# Pansharpening for 2m spatial resolution\n",
        "\n",
        "from osgeo_utils.gdal_pansharpen import gdal_pansharpen\n",
        "\n",
        "pansharpened_path = final_path + \"/pansharpened.tif\"\n",
        "\n",
        "# Perforate the merge by setting the output name as well\n",
        "gdal_pansharpen(['', '-b', '1','-b', '2','-b', '3','-b','4',pan_path_rec, rgbn_path, pansharpened_path])"
      ]
    },
    {
      "cell_type": "code",
      "execution_count": null,
      "metadata": {
        "id": "wnnLHN1NCcgV"
      },
      "outputs": [],
      "source": [
        "# Removing files to liberate memory\n",
        "\n",
        "import os\n",
        "\n",
        "# Home folder path\n",
        "pasta = out_dir\n",
        "\n",
        "# Get the list of files in the folder\n",
        "arquivos = os.listdir(pasta)\n",
        "\n",
        "# Go through the list of files and delete them\n",
        "for arquivo in arquivos:\n",
        "    caminho_arquivo = os.path.join(pasta, arquivo)\n",
        "    if os.path.isfile(caminho_arquivo):\n",
        "        os.remove(caminho_arquivo)\n",
        "\n",
        "\n",
        "# Clipped folder path\n",
        "pasta = out_dir_rec\n",
        "\n",
        "# Get the list of files in the folder\n",
        "arquivos = os.listdir(pasta)\n",
        "\n",
        "# Go through the list of files and delete them\n",
        "for arquivo in arquivos:\n",
        "    caminho_arquivo = os.path.join(pasta, arquivo)\n",
        "    if os.path.isfile(caminho_arquivo):\n",
        "        os.remove(caminho_arquivo)"
      ]
    }
  ],
  "metadata": {
    "colab": {
      "provenance": [],
      "include_colab_link": true
    },
    "kernelspec": {
      "display_name": "Python 3 (ipykernel)",
      "language": "python",
      "name": "python3"
    },
    "language_info": {
      "codemirror_mode": {
        "name": "ipython",
        "version": 3
      },
      "file_extension": ".py",
      "mimetype": "text/x-python",
      "name": "python",
      "nbconvert_exporter": "python",
      "pygments_lexer": "ipython3",
      "version": "3.9.13"
    }
  },
  "nbformat": 4,
  "nbformat_minor": 0
}