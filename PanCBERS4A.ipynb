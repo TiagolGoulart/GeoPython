{
  "cells": [
    {
      "cell_type": "markdown",
      "metadata": {
        "id": "view-in-github",
        "colab_type": "text"
      },
      "source": [
        "<a href=\"https://colab.research.google.com/github/TiagolGoulart/GeoPython/blob/main/PanCBERS4A.ipynb\" target=\"_parent\"><img src=\"https://colab.research.google.com/assets/colab-badge.svg\" alt=\"Open In Colab\"/></a>"
      ]
    },
    {
      "cell_type": "code",
      "execution_count": null,
      "metadata": {
        "id": "YhWTcwzZRHJh",
        "outputId": "1fa7e414-510d-4a41-f949-26350beb7560"
      },
      "outputs": [
        {
          "name": "stdout",
          "output_type": "stream",
          "text": [
            "Requirement already satisfied: geopandas in c:\\users\\tiago\\anaconda3\\lib\\site-packages (0.12.1)\n",
            "Requirement already satisfied: pandas>=1.0.0 in c:\\users\\tiago\\anaconda3\\lib\\site-packages (from geopandas) (1.4.4)\n",
            "Requirement already satisfied: shapely>=1.7 in c:\\users\\tiago\\anaconda3\\lib\\site-packages (from geopandas) (2.0.1)\n",
            "Requirement already satisfied: fiona>=1.8 in c:\\users\\tiago\\anaconda3\\lib\\site-packages (from geopandas) (1.9.1)\n",
            "Requirement already satisfied: pyproj>=2.6.1.post1 in c:\\users\\tiago\\anaconda3\\lib\\site-packages (from geopandas) (3.6.0)\n",
            "Requirement already satisfied: packaging in c:\\users\\tiago\\anaconda3\\lib\\site-packages (from geopandas) (23.0)\n",
            "Requirement already satisfied: attrs>=19.2.0 in c:\\users\\tiago\\anaconda3\\lib\\site-packages (from fiona>=1.8->geopandas) (22.1.0)\n",
            "Requirement already satisfied: certifi in c:\\users\\tiago\\anaconda3\\lib\\site-packages (from fiona>=1.8->geopandas) (2023.5.7)\n",
            "Requirement already satisfied: click~=8.0 in c:\\users\\tiago\\anaconda3\\lib\\site-packages (from fiona>=1.8->geopandas) (8.0.4)\n",
            "Requirement already satisfied: click-plugins>=1.0 in c:\\users\\tiago\\anaconda3\\lib\\site-packages (from fiona>=1.8->geopandas) (1.1.1)\n",
            "Requirement already satisfied: cligj>=0.5 in c:\\users\\tiago\\anaconda3\\lib\\site-packages (from fiona>=1.8->geopandas) (0.7.2)\n",
            "Requirement already satisfied: munch>=2.3.2 in c:\\users\\tiago\\anaconda3\\lib\\site-packages (from fiona>=1.8->geopandas) (2.5.0)\n",
            "Requirement already satisfied: setuptools in c:\\users\\tiago\\anaconda3\\lib\\site-packages (from fiona>=1.8->geopandas) (67.8.0)\n",
            "Requirement already satisfied: python-dateutil>=2.8.1 in c:\\users\\tiago\\anaconda3\\lib\\site-packages (from pandas>=1.0.0->geopandas) (2.8.2)\n",
            "Requirement already satisfied: pytz>=2020.1 in c:\\users\\tiago\\anaconda3\\lib\\site-packages (from pandas>=1.0.0->geopandas) (2022.7)\n",
            "Requirement already satisfied: numpy>=1.18.5 in c:\\users\\tiago\\anaconda3\\lib\\site-packages (from pandas>=1.0.0->geopandas) (1.24.3)\n",
            "Requirement already satisfied: colorama in c:\\users\\tiago\\anaconda3\\lib\\site-packages (from click~=8.0->fiona>=1.8->geopandas) (0.4.6)\n",
            "Requirement already satisfied: six in c:\\users\\tiago\\anaconda3\\lib\\site-packages (from munch>=2.3.2->fiona>=1.8->geopandas) (1.16.0)\n",
            "Requirement already satisfied: rasterio in c:\\users\\tiago\\anaconda3\\lib\\site-packages (1.3.8)\n",
            "Requirement already satisfied: affine in c:\\users\\tiago\\anaconda3\\lib\\site-packages (from rasterio) (2.4.0)\n",
            "Requirement already satisfied: attrs in c:\\users\\tiago\\anaconda3\\lib\\site-packages (from rasterio) (22.1.0)\n",
            "Requirement already satisfied: certifi in c:\\users\\tiago\\anaconda3\\lib\\site-packages (from rasterio) (2023.5.7)\n",
            "Requirement already satisfied: click>=4.0 in c:\\users\\tiago\\anaconda3\\lib\\site-packages (from rasterio) (8.0.4)\n",
            "Requirement already satisfied: cligj>=0.5 in c:\\users\\tiago\\anaconda3\\lib\\site-packages (from rasterio) (0.7.2)\n",
            "Requirement already satisfied: numpy>=1.18 in c:\\users\\tiago\\anaconda3\\lib\\site-packages (from rasterio) (1.24.3)\n",
            "Requirement already satisfied: snuggs>=1.4.1 in c:\\users\\tiago\\anaconda3\\lib\\site-packages (from rasterio) (1.4.7)\n",
            "Requirement already satisfied: click-plugins in c:\\users\\tiago\\anaconda3\\lib\\site-packages (from rasterio) (1.1.1)\n",
            "Requirement already satisfied: setuptools in c:\\users\\tiago\\anaconda3\\lib\\site-packages (from rasterio) (67.8.0)\n",
            "Requirement already satisfied: colorama in c:\\users\\tiago\\anaconda3\\lib\\site-packages (from click>=4.0->rasterio) (0.4.6)\n",
            "Requirement already satisfied: pyparsing>=2.1.6 in c:\\users\\tiago\\anaconda3\\lib\\site-packages (from snuggs>=1.4.1->rasterio) (3.0.9)\n",
            "Requirement already satisfied: shapely in c:\\users\\tiago\\anaconda3\\lib\\site-packages (2.0.1)\n",
            "Requirement already satisfied: numpy>=1.14 in c:\\users\\tiago\\anaconda3\\lib\\site-packages (from shapely) (1.24.3)\n",
            "Requirement already satisfied: simplekml in c:\\users\\tiago\\anaconda3\\lib\\site-packages (1.3.6)\n",
            "Requirement already satisfied: cbers4asat[tools] in c:\\users\\tiago\\anaconda3\\lib\\site-packages (0.7.0)\n",
            "Requirement already satisfied: geopandas>=0.9 in c:\\users\\tiago\\anaconda3\\lib\\site-packages (from cbers4asat[tools]) (0.12.1)\n",
            "Requirement already satisfied: pandas>=1.3.5 in c:\\users\\tiago\\anaconda3\\lib\\site-packages (from cbers4asat[tools]) (1.4.4)\n",
            "Requirement already satisfied: requests>=2.25.1 in c:\\users\\tiago\\anaconda3\\lib\\site-packages (from cbers4asat[tools]) (2.29.0)\n",
            "Requirement already satisfied: geojson>=3.0.1 in c:\\users\\tiago\\anaconda3\\lib\\site-packages (from cbers4asat[tools]) (3.0.1)\n",
            "Requirement already satisfied: geomet>=1.0.0 in c:\\users\\tiago\\anaconda3\\lib\\site-packages (from cbers4asat[tools]) (1.0.0)\n",
            "Requirement already satisfied: numpy>=1.24.2 in c:\\users\\tiago\\anaconda3\\lib\\site-packages (from cbers4asat[tools]) (1.24.3)\n",
            "Requirement already satisfied: rasterio>=1.3.6 in c:\\users\\tiago\\anaconda3\\lib\\site-packages (from cbers4asat[tools]) (1.3.8)\n",
            "Requirement already satisfied: scikit-image>=0.20.0 in c:\\users\\tiago\\anaconda3\\lib\\site-packages (from cbers4asat[tools]) (0.21.0)\n",
            "Requirement already satisfied: click in c:\\users\\tiago\\anaconda3\\lib\\site-packages (from geomet>=1.0.0->cbers4asat[tools]) (8.0.4)\n",
            "Requirement already satisfied: six in c:\\users\\tiago\\anaconda3\\lib\\site-packages (from geomet>=1.0.0->cbers4asat[tools]) (1.16.0)\n",
            "Requirement already satisfied: shapely>=1.7 in c:\\users\\tiago\\anaconda3\\lib\\site-packages (from geopandas>=0.9->cbers4asat[tools]) (2.0.1)\n",
            "Requirement already satisfied: fiona>=1.8 in c:\\users\\tiago\\anaconda3\\lib\\site-packages (from geopandas>=0.9->cbers4asat[tools]) (1.9.1)\n",
            "Requirement already satisfied: pyproj>=2.6.1.post1 in c:\\users\\tiago\\anaconda3\\lib\\site-packages (from geopandas>=0.9->cbers4asat[tools]) (3.6.0)\n",
            "Requirement already satisfied: packaging in c:\\users\\tiago\\anaconda3\\lib\\site-packages (from geopandas>=0.9->cbers4asat[tools]) (23.0)\n",
            "Requirement already satisfied: python-dateutil>=2.8.1 in c:\\users\\tiago\\anaconda3\\lib\\site-packages (from pandas>=1.3.5->cbers4asat[tools]) (2.8.2)\n",
            "Requirement already satisfied: pytz>=2020.1 in c:\\users\\tiago\\anaconda3\\lib\\site-packages (from pandas>=1.3.5->cbers4asat[tools]) (2022.7)\n",
            "Requirement already satisfied: affine in c:\\users\\tiago\\anaconda3\\lib\\site-packages (from rasterio>=1.3.6->cbers4asat[tools]) (2.4.0)\n",
            "Requirement already satisfied: attrs in c:\\users\\tiago\\anaconda3\\lib\\site-packages (from rasterio>=1.3.6->cbers4asat[tools]) (22.1.0)\n",
            "Requirement already satisfied: certifi in c:\\users\\tiago\\anaconda3\\lib\\site-packages (from rasterio>=1.3.6->cbers4asat[tools]) (2023.5.7)\n",
            "Requirement already satisfied: cligj>=0.5 in c:\\users\\tiago\\anaconda3\\lib\\site-packages (from rasterio>=1.3.6->cbers4asat[tools]) (0.7.2)\n",
            "Requirement already satisfied: snuggs>=1.4.1 in c:\\users\\tiago\\anaconda3\\lib\\site-packages (from rasterio>=1.3.6->cbers4asat[tools]) (1.4.7)\n",
            "Requirement already satisfied: click-plugins in c:\\users\\tiago\\anaconda3\\lib\\site-packages (from rasterio>=1.3.6->cbers4asat[tools]) (1.1.1)\n",
            "Requirement already satisfied: setuptools in c:\\users\\tiago\\anaconda3\\lib\\site-packages (from rasterio>=1.3.6->cbers4asat[tools]) (67.8.0)\n",
            "Requirement already satisfied: charset-normalizer<4,>=2 in c:\\users\\tiago\\anaconda3\\lib\\site-packages (from requests>=2.25.1->cbers4asat[tools]) (2.0.4)\n",
            "Requirement already satisfied: idna<4,>=2.5 in c:\\users\\tiago\\anaconda3\\lib\\site-packages (from requests>=2.25.1->cbers4asat[tools]) (3.4)\n",
            "Requirement already satisfied: urllib3<1.27,>=1.21.1 in c:\\users\\tiago\\anaconda3\\lib\\site-packages (from requests>=2.25.1->cbers4asat[tools]) (1.26.16)\n",
            "Requirement already satisfied: scipy>=1.8 in c:\\users\\tiago\\anaconda3\\lib\\site-packages (from scikit-image>=0.20.0->cbers4asat[tools]) (1.10.1)\n",
            "Requirement already satisfied: networkx>=2.8 in c:\\users\\tiago\\anaconda3\\lib\\site-packages (from scikit-image>=0.20.0->cbers4asat[tools]) (2.8.4)\n",
            "Requirement already satisfied: pillow>=9.0.1 in c:\\users\\tiago\\anaconda3\\lib\\site-packages (from scikit-image>=0.20.0->cbers4asat[tools]) (9.4.0)\n",
            "Requirement already satisfied: imageio>=2.27 in c:\\users\\tiago\\anaconda3\\lib\\site-packages (from scikit-image>=0.20.0->cbers4asat[tools]) (2.31.1)\n",
            "Requirement already satisfied: tifffile>=2022.8.12 in c:\\users\\tiago\\anaconda3\\lib\\site-packages (from scikit-image>=0.20.0->cbers4asat[tools]) (2023.7.4)\n",
            "Requirement already satisfied: PyWavelets>=1.1.1 in c:\\users\\tiago\\anaconda3\\lib\\site-packages (from scikit-image>=0.20.0->cbers4asat[tools]) (1.4.1)\n",
            "Requirement already satisfied: lazy_loader>=0.2 in c:\\users\\tiago\\anaconda3\\lib\\site-packages (from scikit-image>=0.20.0->cbers4asat[tools]) (0.3)\n",
            "Requirement already satisfied: colorama in c:\\users\\tiago\\anaconda3\\lib\\site-packages (from click->geomet>=1.0.0->cbers4asat[tools]) (0.4.6)\n",
            "Requirement already satisfied: munch>=2.3.2 in c:\\users\\tiago\\anaconda3\\lib\\site-packages (from fiona>=1.8->geopandas>=0.9->cbers4asat[tools]) (2.5.0)\n",
            "Requirement already satisfied: pyparsing>=2.1.6 in c:\\users\\tiago\\anaconda3\\lib\\site-packages (from snuggs>=1.4.1->rasterio>=1.3.6->cbers4asat[tools]) (3.0.9)\n"
          ]
        }
      ],
      "source": [
        "# Installing the necessaries libraries\n",
        "\n",
        "!pip install geopandas\n",
        "!pip install rasterio\n",
        "!pip install shapely\n",
        "!pip install simplekml\n",
        "!pip install \"cbers4asat[tools] \""
      ]
    },
    {
      "cell_type": "code",
      "execution_count": null,
      "metadata": {
        "id": "9QkF5PrXRaQ3",
        "outputId": "110c03bf-2aa9-4147-d0fa-123800ce9a06"
      },
      "outputs": [
        {
          "name": "stderr",
          "output_type": "stream",
          "text": [
            "C:\\Users\\tiago\\anaconda3\\lib\\site-packages\\numpy\\_distributor_init.py:30: UserWarning: loaded more than 1 DLL from .libs:\n",
            "C:\\Users\\tiago\\anaconda3\\lib\\site-packages\\numpy\\.libs\\libopenblas64__v0.3.21-gcc_10_3_0.dll\n",
            "C:\\Users\\tiago\\anaconda3\\lib\\site-packages\\numpy\\.libs\\libopenblas64__v0.3.23-gcc_10_3_0.dll\n",
            "  warnings.warn(\"loaded more than 1 DLL from .libs:\"\n"
          ]
        }
      ],
      "source": [
        "# Importing packages\n",
        "\n",
        "import geopandas as gpd\n",
        "import simplekml\n",
        "import numpy as np\n",
        "import rasterio\n",
        "import os\n",
        "import lxml.etree as etree\n",
        "import pyproj\n",
        "from pyproj import Transformer\n",
        "from rasterio.merge import merge\n",
        "from rasterio.plot import show\n",
        "from rasterio.features import shapes\n",
        "from shapely.geometry import Polygon, Point"
      ]
    },
    {
      "cell_type": "code",
      "execution_count": null,
      "metadata": {
        "id": "BzUUkaX5RuPn"
      },
      "outputs": [],
      "source": [
        "# Defining the data\n",
        "\n",
        "# Define the coordinate system with EPSG code\n",
        "sistema_coordenadas = input(\"Digite o código EPSG do sistema de coordenadas de referência: \\n\")\n",
        "sistema_coordenadas = 'EPSG:'+sistema_coordenadas\n",
        "\n",
        "# Path for mask to clip raster\n",
        "kml_path = input('Cole o caminho para o kml que irá cortar as imagens raster: ')\n",
        "\n",
        "# INPE user\n",
        "user_cbers = input('Digite aqui seu e-mail de usuário cadastrado na plataforma do CBERS4A: \\n')\n",
        "\n",
        "# Inicial search date\n",
        "#inicial_date = input('Digite a data inicial de busca da imagem no formato DD/MM/AAAA: \\n')\n",
        "d_i = int(inicial_date[:2])\n",
        "m_i = int(inicial_date[3:5])\n",
        "a_i = int(inicial_date[6:])\n",
        "\n",
        "# Final search date\n",
        "\n",
        "final_date= input('Digite a data final de busca da imagem no formato DD/MM/AAAA: \\n')\n",
        "d_f = int(final_date[:2])\n",
        "m_f = int(final_date[3:5])\n",
        "a_f = int(final_date[6:])\n",
        "\n",
        "# Setting the results output directory\n",
        "\n",
        "out_dir = input('Cole o caminho da pasta onde os arquivos resultantes serão salvos: \\n')"
      ]
    },
    {
      "cell_type": "code",
      "execution_count": null,
      "metadata": {
        "id": "THwH6TQUUPst"
      },
      "outputs": [],
      "source": [
        "# Opening the extension KML and setting the bbox\n",
        "\n",
        "# Open the KML file in binary mode\n",
        "with open(kml_path, 'rb') as f:\n",
        "  kml_string = f.read()\n",
        "\n",
        "# parse the KML string into an Element object\n",
        "root = etree.fromstring(kml_string)\n",
        "\n",
        "# Get the coordinates of the polygon\n",
        "polygon = root.find('.//{http://www.opengis.net/kml/2.2}Polygon')\n",
        "coords_str = polygon.find('.//{http://www.opengis.net/kml/2.2}coordinates').text\n",
        "\n",
        "coords_list_original = [tuple(map(float, coord.split(',')[0:2])) for coord in coords_str.split()]\n",
        "coords_list = [(coord[1], coord[0]) for coord in coords_list_original]\n",
        "\n",
        "# Create a Transformer for the proper UTM projection\n",
        "transformer = Transformer.from_crs(\"EPSG:4326\", sistema_coordenadas)\n",
        "\n",
        "# Convert the coordinates to the proper UTM projection\n",
        "coords_list_utm = [transformer.transform(*coord)[::-1] for coord in coords_list]\n",
        "coords_list = [(coord[1], coord[0]) for coord in coords_list_utm]\n",
        "\n",
        "# Create a shapely polygon based on UTM coordinates for cutting\n",
        "polygon_utm = Polygon(coords_list)\n",
        "\n",
        "# Defining the mask based on the initial polygon\n",
        "geo = polygon_utm\n",
        "\n",
        "# Create a shapely polygon with geographic coordinates to get bbox\n",
        "polygon_bbox = Polygon(coords_list_original)\n",
        "\n",
        "# Using the 'envelope' attribute to get a bounding rectangle and then getting the max and min values\n",
        "envelope = polygon_bbox.envelope\n",
        "x_min, y_min, x_max, y_max = envelope.bounds\n",
        "\n",
        "evelope_utm = polygon_utm.envelope"
      ]
    },
    {
      "cell_type": "code",
      "execution_count": null,
      "metadata": {
        "id": "Q7ML32wWID2m"
      },
      "outputs": [],
      "source": [
        "# Bounding box formed by [x_min, y_min, x_max, y_max]\n",
        "bbox=[x_min,y_min,x_max,y_max]\n",
        "\n",
        "from shapely.geometry import mapping\n",
        "coords= [mapping(evelope_utm)]"
      ]
    },
    {
      "cell_type": "code",
      "execution_count": null,
      "metadata": {
        "id": "2cgeOT1TID2n",
        "outputId": "b857a780-5036-4ddf-f2ef-91fa511b00b3"
      },
      "outputs": [
        {
          "data": {
            "text/plain": [
              "[{'type': 'Polygon',\n",
              "  'coordinates': (((654904.0423551123, 7451211.202710632),\n",
              "    (659983.8966747862, 7451211.202710632),\n",
              "    (659983.8966747862, 7455558.098957835),\n",
              "    (654904.0423551123, 7455558.098957835),\n",
              "    (654904.0423551123, 7451211.202710632)),)}]"
            ]
          },
          "execution_count": 6,
          "metadata": {},
          "output_type": "execute_result"
        }
      ],
      "source": [
        "coords"
      ]
    },
    {
      "cell_type": "code",
      "execution_count": null,
      "metadata": {
        "id": "CUm4bu5XWKw3"
      },
      "outputs": [],
      "source": [
        "# Importing the libraries\n",
        "from cbers4asat import Cbers4aAPI\n",
        "\n",
        "# The date class is necessary to standardize the date format\n",
        "from datetime import date\n",
        "\n",
        "# Instantiating the object with the user registered on the platform\n",
        "api = Cbers4aAPI(user_cbers)\n",
        "\n",
        "# Bounding box formed by [x_min, y_min, x_max, y_max]\n",
        "#bbox=[x_min,y_min,x_max,y_max]\n",
        "\n",
        "# Search interval\n",
        "data_inicial = date(a_i,m_i,d_i)\n",
        "data_final = date(a_f,m_f,d_f)\n",
        "\n",
        "\n",
        "# Querying the catalog and displaying the results\n",
        "produtos = api.query(location=bbox,\n",
        "                     initial_date=data_inicial,\n",
        "                     end_date=data_final,\n",
        "                     cloud=10,\n",
        "                     limit=1,\n",
        "                     collections=['CBERS4A_WPM_L4_DN'])\n"
      ]
    },
    {
      "cell_type": "code",
      "execution_count": null,
      "metadata": {
        "id": "nGQFQ9MTeVDy",
        "outputId": "340f14ab-6976-495b-baba-c7514bb6122a"
      },
      "outputs": [
        {
          "data": {
            "text/plain": [
              "{'type': 'FeatureCollection',\n",
              " 'features': [{'type': 'Feature',\n",
              "   'id': 'CBERS4A_WPM19814220220404',\n",
              "   'collection': 'CBERS4A_WPM_L4_DN',\n",
              "   'geometry': {'type': 'Polygon',\n",
              "    'coordinates': [[[-43.6192, -22.4802],\n",
              "      [-43.6192, -23.5585],\n",
              "      [-42.4829, -23.5585],\n",
              "      [-42.4829, -22.4802],\n",
              "      [-43.6192, -22.4802]]]},\n",
              "   'bbox': [-43.6192, -23.5585, -42.4829, -22.4802],\n",
              "   'properties': {'datetime': '2022-04-04T13:27:27',\n",
              "    'path': 198,\n",
              "    'row': 142,\n",
              "    'satellite': 'CBERS4A',\n",
              "    'sensor': 'WPM',\n",
              "    'cloud_cover': 10.0,\n",
              "    'sync_loss': None,\n",
              "    'eo:gsd': -1,\n",
              "    'eo:bands': [{'name': 'pan', 'common_name': 'pan'},\n",
              "     {'name': 'blue', 'common_name': 'blue'},\n",
              "     {'name': 'green', 'common_name': 'green'},\n",
              "     {'name': 'red', 'common_name': 'red'},\n",
              "     {'name': 'nir', 'common_name': 'nir'}]},\n",
              "   'assets': {'pan': {'href': 'http://www2.dgi.inpe.br/api/download/TIFF/CBERS4A/2022_04/CBERS_4A_WPM_RAW_2022_04_04.13_21_00_ETC2/198_142_0/4_BC_UTM_WGS84/CBERS_4A_WPM_20220404_198_142_L4_BAND0.tif',\n",
              "     'type': 'image/tiff; application=geotiff',\n",
              "     'eo:bands': [0]},\n",
              "    'pan_xml': {'href': 'http://www2.dgi.inpe.br/api/download/TIFF/CBERS4A/2022_04/CBERS_4A_WPM_RAW_2022_04_04.13_21_00_ETC2/198_142_0/4_BC_UTM_WGS84/CBERS_4A_WPM_20220404_198_142_L4_BAND0.xml',\n",
              "     'type': 'application/xml'},\n",
              "    'blue': {'href': 'http://www2.dgi.inpe.br/api/download/TIFF/CBERS4A/2022_04/CBERS_4A_WPM_RAW_2022_04_04.13_21_00_ETC2/198_142_0/4_BC_UTM_WGS84/CBERS_4A_WPM_20220404_198_142_L4_BAND1.tif',\n",
              "     'type': 'image/tiff; application=geotiff',\n",
              "     'eo:bands': [1]},\n",
              "    'blue_xml': {'href': 'http://www2.dgi.inpe.br/api/download/TIFF/CBERS4A/2022_04/CBERS_4A_WPM_RAW_2022_04_04.13_21_00_ETC2/198_142_0/4_BC_UTM_WGS84/CBERS_4A_WPM_20220404_198_142_L4_BAND1.xml',\n",
              "     'type': 'application/xml'},\n",
              "    'green': {'href': 'http://www2.dgi.inpe.br/api/download/TIFF/CBERS4A/2022_04/CBERS_4A_WPM_RAW_2022_04_04.13_21_00_ETC2/198_142_0/4_BC_UTM_WGS84/CBERS_4A_WPM_20220404_198_142_L4_BAND2.tif',\n",
              "     'type': 'image/tiff; application=geotiff',\n",
              "     'eo:bands': [2]},\n",
              "    'green_xml': {'href': 'http://www2.dgi.inpe.br/api/download/TIFF/CBERS4A/2022_04/CBERS_4A_WPM_RAW_2022_04_04.13_21_00_ETC2/198_142_0/4_BC_UTM_WGS84/CBERS_4A_WPM_20220404_198_142_L4_BAND2.xml',\n",
              "     'type': 'application/xml'},\n",
              "    'red': {'href': 'http://www2.dgi.inpe.br/api/download/TIFF/CBERS4A/2022_04/CBERS_4A_WPM_RAW_2022_04_04.13_21_00_ETC2/198_142_0/4_BC_UTM_WGS84/CBERS_4A_WPM_20220404_198_142_L4_BAND3.tif',\n",
              "     'type': 'image/tiff; application=geotiff',\n",
              "     'eo:bands': [3]},\n",
              "    'red_xml': {'href': 'http://www2.dgi.inpe.br/api/download/TIFF/CBERS4A/2022_04/CBERS_4A_WPM_RAW_2022_04_04.13_21_00_ETC2/198_142_0/4_BC_UTM_WGS84/CBERS_4A_WPM_20220404_198_142_L4_BAND3.xml',\n",
              "     'type': 'application/xml'},\n",
              "    'nir': {'href': 'http://www2.dgi.inpe.br/api/download/TIFF/CBERS4A/2022_04/CBERS_4A_WPM_RAW_2022_04_04.13_21_00_ETC2/198_142_0/4_BC_UTM_WGS84/CBERS_4A_WPM_20220404_198_142_L4_BAND4.tif',\n",
              "     'type': 'image/tiff; application=geotiff',\n",
              "     'eo:bands': [4]},\n",
              "    'nir_xml': {'href': 'http://www2.dgi.inpe.br/api/download/TIFF/CBERS4A/2022_04/CBERS_4A_WPM_RAW_2022_04_04.13_21_00_ETC2/198_142_0/4_BC_UTM_WGS84/CBERS_4A_WPM_20220404_198_142_L4_BAND4.xml',\n",
              "     'type': 'application/xml'},\n",
              "    'thumbnail': {'href': 'http://www2.dgi.inpe.br/datastore/TIFF/CBERS4A/2022_04/CBERS_4A_WPM_RAW_2022_04_04.13_21_00_ETC2/198_142_0/4_BC_UTM_WGS84/CBERS_4A_WPM_20220404_198_142.png',\n",
              "     'type': 'image/png'}}}]}"
            ]
          },
          "execution_count": 8,
          "metadata": {},
          "output_type": "execute_result"
        }
      ],
      "source": [
        "# Viewing the data\n",
        "produtos"
      ]
    },
    {
      "cell_type": "code",
      "execution_count": null,
      "metadata": {
        "id": "xIGCXjhGgKLl"
      },
      "outputs": [],
      "source": [
        "# Downloading the images for the output directory\n",
        "\n",
        "api.download(products=produtos,\n",
        "             bands=['pan','green','blue','red','nir'],\n",
        "             threads=10,\n",
        "             outdir=out_dir)\n",
        "\n"
      ]
    },
    {
      "cell_type": "code",
      "execution_count": null,
      "metadata": {
        "id": "-yciyAVoegiu"
      },
      "outputs": [],
      "source": [
        "# Defining the path of each band image\n",
        "\n",
        "import time\n",
        "import glob\n",
        "start_time = time.time()  # Get the current time before starting the loop\n",
        "timeout = 120  # Timeout in seconds\n",
        "\n",
        "while True:\n",
        "    try:\n",
        "        blue_path = glob.glob(out_dir + '/*BAND1.tif')[0]\n",
        "        green_path = glob.glob(out_dir + '/*BAND2.tif')[0]\n",
        "        red_path = glob.glob(out_dir + '/*BAND3.tif')[0]\n",
        "        nir_path = glob.glob(out_dir + '/*BAND4.tif')[0]\n",
        "        pan_path = glob.glob(out_dir + '/*BAND0.tif')[0]\n",
        "\n",
        "        break  # Exit the loop if no error occurs\n",
        "    except IndexError:\n",
        "        if time.time() - start_time >= timeout:\n",
        "            print(\"Timeout: The timeout limit of 120 seconds has been reached.\"\n",
        "            + \"Please wait a moment and run the cell again.\")\n",
        "            break  # Exit the loop if the timeout is reached"
      ]
    },
    {
      "cell_type": "code",
      "execution_count": null,
      "metadata": {
        "id": "ik1u4k5qID2o"
      },
      "outputs": [],
      "source": [
        "out_dir_rec = out_dir+\"/Recortados\"\n",
        "\n",
        "import os\n",
        "\n",
        "# Create the directory\n",
        "os.makedirs(out_dir_rec, exist_ok=True)"
      ]
    },
    {
      "cell_type": "code",
      "execution_count": null,
      "metadata": {
        "id": "wmaKE2CjijbR"
      },
      "outputs": [],
      "source": [
        "# Saving the paths to the cutted rasters in variables\n",
        "\n",
        "blue_path_rec=out_dir_rec+'/BAND1_REC.tif'\n",
        "green_path_rec=out_dir_rec+'/BAND2_REC.tif'\n",
        "red_path_rec=out_dir_rec+'/BAND3_REC.tif'\n",
        "nir_path_rec=out_dir_rec+'/BAND4_REC.tif'\n",
        "pan_path_rec=out_dir_rec+'/BAND0_REC.tif'"
      ]
    },
    {
      "cell_type": "code",
      "execution_count": null,
      "metadata": {
        "id": "vKsVj6FrID2p"
      },
      "outputs": [],
      "source": [
        "# Cutting the rasters by the extension of the project with rasterio\n",
        "import rasterio.mask\n",
        "\n",
        "# Defining a cutting function of the downloaded rasters\n",
        "\n",
        "\n",
        "def cut_raster(input_file,output_file):\n",
        "    # Use rasterio to open the image\n",
        "    with rasterio.open(input_file) as src:\n",
        "    # Use the mask function to crop the image with the coordinates extracted from KML (coords)\n",
        "        out_image, out_transform = rasterio.mask.mask(src, coords, crop=True)\n",
        "    # Get the original raster metadata\n",
        "        out_meta = src.meta\n",
        "        b2=src.read(1)\n",
        "        affine=src.transform\n",
        "    # Update the original raster metadata with new dimensions and transformation to geographic coordinates\n",
        "    out_meta.update({\"driver\": \"GTiff\",\n",
        "                     \"height\": out_image.shape[1],\n",
        "                     \"width\": out_image.shape[2],\n",
        "                     \"transform\": out_transform})\n",
        "\n",
        "    # Save the clipping in a new raster\n",
        "    with rasterio.open(output_file, \"w\", **out_meta) as dest:\n",
        "        dest.write(out_image)"
      ]
    },
    {
      "cell_type": "code",
      "execution_count": null,
      "metadata": {
        "id": "-OVE8kGrID2p"
      },
      "outputs": [],
      "source": [
        "# Using the function\n",
        "\n",
        "cut_raster(blue_path,blue_path_rec)\n",
        "cut_raster(green_path,green_path_rec)\n",
        "cut_raster(red_path,red_path_rec)\n",
        "cut_raster(nir_path,nir_path_rec)\n",
        "cut_raster(pan_path,pan_path_rec)"
      ]
    },
    {
      "cell_type": "code",
      "execution_count": null,
      "metadata": {
        "id": "dLLbQ6y3ID2p"
      },
      "outputs": [],
      "source": [
        "# Create the directory\n",
        "final_path = out_dir + \"/FINAL_RESULT\"\n",
        "\n",
        "os.makedirs(final_path, exist_ok=True)\n",
        "rgbn_path = final_path + \"/rgbn_composite.tif\"\n",
        "\n",
        "# Open each band as a rasterio object\n",
        "band_r = rasterio.open(red_path_rec)\n",
        "band_g = rasterio.open(green_path_rec)\n",
        "band_b = rasterio.open(blue_path_rec)\n",
        "band_n = rasterio.open(nir_path_rec)\n",
        "\n",
        "\n",
        "# Load each band's data as numpy arrays\n",
        "data_r = band_r.read(1)\n",
        "data_g = band_g.read(1)\n",
        "data_b = band_b.read(1)\n",
        "data_n = band_n.read(1)\n",
        "\n",
        "# Get the transformation and CRS information of the reference band\n",
        "transform = band_r.transform\n",
        "crs = band_r.crs\n",
        "\n",
        "# Create an RGBN matrix by stacking the bands in the correct order\n",
        "rgbn_stack = np.stack([data_r, data_g, data_b, data_n], axis=0)\n",
        "\n",
        "# Save the RGB stack to a new file\n",
        "with rasterio.open(rgbn_path, 'w', driver='GTiff', width=band_r.width, height=band_r.height,\n",
        "                   count=4, dtype=rgbn_stack.dtype, transform=transform, crs=crs) as dst:\n",
        "    dst.write(rgbn_stack, indexes=[1, 2, 3, 4])\n"
      ]
    },
    {
      "cell_type": "code",
      "execution_count": null,
      "metadata": {
        "id": "ExHTLaQ8ID2p"
      },
      "outputs": [],
      "source": [
        "# Close the raster objects of the bands\n",
        "band_r.close()\n",
        "band_g.close()\n",
        "band_b.close()\n",
        "band_n.close()"
      ]
    },
    {
      "cell_type": "code",
      "execution_count": null,
      "metadata": {
        "id": "Lk6QHVfeID2p",
        "outputId": "efb2bbeb-d3e7-421e-b660-cd9b0c9c19ce"
      },
      "outputs": [
        {
          "data": {
            "text/plain": [
              "0"
            ]
          },
          "execution_count": 18,
          "metadata": {},
          "output_type": "execute_result"
        }
      ],
      "source": [
        "# Pansharpening for 2m spatial resolution\n",
        "\n",
        "from osgeo_utils.gdal_pansharpen import gdal_pansharpen\n",
        "\n",
        "pansharpened_path = final_path + \"/pansharpened.tif\"\n",
        "\n",
        "# Perforate the merge by setting the output name as well\n",
        "gdal_pansharpen(['', '-b', '1','-b', '2','-b', '3','-b','4',pan_path_rec, rgbn_path, pansharpened_path])"
      ]
    },
    {
      "cell_type": "code",
      "execution_count": null,
      "metadata": {
        "id": "wnnLHN1NCcgV"
      },
      "outputs": [],
      "source": [
        "# Removing files to liberate memory\n",
        "\n",
        "import os\n",
        "\n",
        "# Home folder path\n",
        "pasta = out_dir\n",
        "\n",
        "# Get the list of files in the folder\n",
        "arquivos = os.listdir(pasta)\n",
        "\n",
        "# Go through the list of files and delete them\n",
        "for arquivo in arquivos:\n",
        "    caminho_arquivo = os.path.join(pasta, arquivo)\n",
        "    if os.path.isfile(caminho_arquivo):\n",
        "        os.remove(caminho_arquivo)\n",
        "\n",
        "\n",
        "# Clipped folder path\n",
        "pasta = out_dir_rec\n",
        "\n",
        "# Get the list of files in the folder\n",
        "arquivos = os.listdir(pasta)\n",
        "\n",
        "# Go through the list of files and delete them\n",
        "for arquivo in arquivos:\n",
        "    caminho_arquivo = os.path.join(pasta, arquivo)\n",
        "    if os.path.isfile(caminho_arquivo):\n",
        "        os.remove(caminho_arquivo)"
      ]
    }
  ],
  "metadata": {
    "colab": {
      "provenance": [],
      "include_colab_link": true
    },
    "kernelspec": {
      "display_name": "Python 3 (ipykernel)",
      "language": "python",
      "name": "python3"
    },
    "language_info": {
      "codemirror_mode": {
        "name": "ipython",
        "version": 3
      },
      "file_extension": ".py",
      "mimetype": "text/x-python",
      "name": "python",
      "nbconvert_exporter": "python",
      "pygments_lexer": "ipython3",
      "version": "3.9.13"
    }
  },
  "nbformat": 4,
  "nbformat_minor": 0
}